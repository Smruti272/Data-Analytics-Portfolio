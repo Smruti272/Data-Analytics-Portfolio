{
 "cells": [
  {
   "cell_type": "code",
   "execution_count": null,
   "id": "c3c2b6a9-98dd-4f81-b86e-733d2d9b77ef",
   "metadata": {},
   "outputs": [],
   "source": [
    "# For this SQL excersise we use the openly available Bike store relational database\n",
    "#Bike Store Relational Database includes several tables that represent different aspects of a bike store's operations, such as products, sales, \n",
    "#and customers. Here are the key tables and their purposes:\n",
    "\n",
    "#Stores: Contains information about the different store locations.\n",
    "#Products: Holds data about the products available in the stores, including details like product names, brands, and categories.\n",
    "#Customers: Stores customer information, including names and contact details.\n",
    "#Orders: Records the sales orders made by customers, including order dates and status.\n",
    "#OrderItems: Represents the items included in each order, linking orders to products and specifying quantities and prices.\n",
    "#Staffs: Contains data on store employees, including their names and positions."
   ]
  },
  {
   "cell_type": "code",
   "execution_count": 1,
   "id": "94526f6b-8927-45e6-b46d-0cb507eca33e",
   "metadata": {},
   "outputs": [
    {
     "name": "stdout",
     "output_type": "stream",
     "text": [
      "brands\n",
      "categories\n",
      "customers\n",
      "order_items\n",
      "orders\n",
      "products\n",
      "staffs\n",
      "stocks\n",
      "stores\n"
     ]
    }
   ],
   "source": [
    "import mysql.connector\n",
    "# Connect to the MySQL database\n",
    "conn = mysql.connector.connect(\n",
    "    host='localhost', \n",
    "    user='root',\n",
    "    passwd='Sva#1602',\n",
    "    database='bikestore'\n",
    ")\n",
    "# Create a cursor object\n",
    "cursor = conn.cursor()\n",
    "# Execute the 'SHOW TABLES' command\n",
    "cursor.execute(\"SHOW TABLES\")\n",
    "# Fetch the result and print each table name\n",
    "for table in cursor:\n",
    "    print(table[0])\n",
    "# Close the connection\n",
    "cursor.close()\n",
    "conn.close()"
   ]
  },
  {
   "cell_type": "code",
   "execution_count": null,
   "id": "7deb7509-9984-45c5-a771-f17b14f48180",
   "metadata": {},
   "outputs": [],
   "source": []
  }
 ],
 "metadata": {
  "kernelspec": {
   "display_name": "Python 3 (ipykernel)",
   "language": "python",
   "name": "python3"
  },
  "language_info": {
   "codemirror_mode": {
    "name": "ipython",
    "version": 3
   },
   "file_extension": ".py",
   "mimetype": "text/x-python",
   "name": "python",
   "nbconvert_exporter": "python",
   "pygments_lexer": "ipython3",
   "version": "3.11.7"
  }
 },
 "nbformat": 4,
 "nbformat_minor": 5
}
